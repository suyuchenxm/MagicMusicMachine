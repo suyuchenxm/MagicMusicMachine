{
  "cells": [
    {
      "cell_type": "markdown",
      "metadata": {
        "colab_type": "text",
        "id": "view-in-github"
      },
      "source": [
        "<a href=\"https://colab.research.google.com/github/suyuchenxm/MagicMusicMachine/blob/main/MagicMusicMachine_Colab_Demo.ipynb\" target=\"_parent\"><img src=\"https://colab.research.google.com/assets/colab-badge.svg\" alt=\"Open In Colab\"/></a>"
      ]
    },
    {
      "cell_type": "code",
      "execution_count": 1,
      "metadata": {
        "cellView": "form",
        "id": "OPyYbXEwKfw3"
      },
      "outputs": [],
      "source": [
        "#@title Setup Environment\n",
        "import os\n",
        "from google.colab import userdata\n",
        "os.environ['OPENAI_API_KEY'] = userdata.get('OPENAI_API_KEY')"
      ]
    },
    {
      "cell_type": "code",
      "execution_count": null,
      "metadata": {
        "cellView": "form",
        "id": "SM5IL6mHevJ2"
      },
      "outputs": [],
      "source": [
        "#@title Install the dependencies\n",
        "#@markdown Please ignore the restart kernel message\n",
        "# Adapted from https://github.com/camenduru/MusicGen-colab\n",
        "%cd /content\n",
        "!git clone \"https://github.com/suyuchenxm/MagicMusicMachine.git\"\n",
        "%cd /content/MagicMusicMachine\n",
        "!pip install -r requirements.txt\n",
        "# Please do not restart the session after installing the dependencies"
      ]
    },
    {
      "cell_type": "code",
      "execution_count": null,
      "metadata": {
        "id": "Ib335WRGKeg1"
      },
      "outputs": [],
      "source": [
        "#@title Running the app\n",
        "#@markdown Click on the gradio link that appear\n",
        "# Click on the gradio link that appear.\n",
        "!python app.py --share"
      ]
    }
  ],
  "metadata": {
    "accelerator": "GPU",
    "colab": {
      "authorship_tag": "ABX9TyPRmrQczGRFq1yzWScfqKqa",
      "gpuType": "A100",
      "include_colab_link": true,
      "machine_shape": "hm",
      "provenance": []
    },
    "kernelspec": {
      "display_name": "Python 3",
      "name": "python3"
    },
    "language_info": {
      "name": "python"
    }
  },
  "nbformat": 4,
  "nbformat_minor": 0
}
