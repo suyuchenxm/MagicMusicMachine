{
  "cells": [
    {
      "cell_type": "markdown",
      "metadata": {
        "id": "view-in-github",
        "colab_type": "text"
      },
      "source": [
        "<a href=\"https://colab.research.google.com/github/suyuchenxm/MagicMusicMachine/blob/main/MagicMusicMachine_Colab_Demo.ipynb\" target=\"_parent\"><img src=\"https://colab.research.google.com/assets/colab-badge.svg\" alt=\"Open In Colab\"/></a>"
      ]
    },
    {
      "cell_type": "code",
      "source": [
        "#@title Setup Environment\n",
        "ANTHROPIC_API_KEY = \"\" #@param {type:\"string\"}\n",
        "import os\n",
        "os.environ[\"ANTHROPIC_API_KEY\"] = ANTHROPIC_API_KEY"
      ],
      "metadata": {
        "cellView": "form",
        "id": "OPyYbXEwKfw3"
      },
      "execution_count": 1,
      "outputs": []
    },
    {
      "cell_type": "code",
      "execution_count": null,
      "metadata": {
        "id": "SM5IL6mHevJ2",
        "cellView": "form"
      },
      "outputs": [],
      "source": [
        "#@title Install the dependencies\n",
        "#@markdown Please ignore the restart kernel message\n",
        "# Adapted from https://github.com/camenduru/MusicGen-colab\n",
        "%cd /content\n",
        "!git clone \"https://github.com/suyuchenxm/MagicMusicMachine.git\"\n",
        "%cd /content/MagicMusicMachine\n",
        "!pip install -r requirements.txt\n",
        "# correct the version\n",
        "!pip install torch=='2.1.0'\n",
        "!pip install torchvision=='0.16.0'\n",
        "!pip install torchaudio=='2.1.0'"
      ]
    },
    {
      "cell_type": "code",
      "source": [
        "#@title Running the app\n",
        "#@markdown Click on the gradio link that appear\n",
        "# Click on the gradio link that appear.\n",
        "!python app.py --share=True\n",
        "# See also https://colab.research.google.com/drive/1fxGqfg96RBUvGxZ1XXN07s3DthrKUl4-?usp=sharing\n",
        "# for a Colab demo using the underlying API instead."
      ],
      "metadata": {
        "cellView": "form",
        "id": "Ib335WRGKeg1"
      },
      "execution_count": null,
      "outputs": []
    },
    {
      "cell_type": "code",
      "source": [],
      "metadata": {
        "id": "zkt4AjKqNYks"
      },
      "execution_count": null,
      "outputs": []
    }
  ],
  "metadata": {
    "accelerator": "GPU",
    "colab": {
      "gpuType": "A100",
      "machine_shape": "hm",
      "provenance": [],
      "authorship_tag": "ABX9TyPJ/qmz9D+l03YSzLjt8BYN",
      "include_colab_link": true
    },
    "kernelspec": {
      "display_name": "Python 3",
      "name": "python3"
    },
    "language_info": {
      "name": "python"
    }
  },
  "nbformat": 4,
  "nbformat_minor": 0
}